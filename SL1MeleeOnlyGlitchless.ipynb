{
 "cells": [
  {
   "cell_type": "code",
   "execution_count": 1,
   "id": "d4a96689",
   "metadata": {},
   "outputs": [
    {
     "data": {
      "text/html": [
       "<style>table.route {   border: 1px solid Black;}table.route th {   border: 1px solid Black;   text-align: center;   background-color: LightSkyBlue;}table.route td,table.route th {   font-size: medium;   padding-left: 0.5em;   padding-right: 0.5em;   padding-top: 0.1em;   padding-bottom: 0.1em;   border-left: 1px solid Black;   border-right: 1px solid Black;}table.route td.region {   background-color: LightGray;   border-top: 1px solid Black;   border-bottom: 1px solid Black;   text-align: center;   font-size: large;   font-weight: bold;}table.route td {   border-top: 1px solid DarkGray;}table.route td.action {   text-align: left;}table.route td.action span.name {   font-weight: bold;}table.route td.souls,table.route td.bank,table.route td.bones {   text-align: center;}table.route span.add,table.route span.subtract,table.route span.detail {   font-size: small;}table.route span.add {   color: DarkGreen;   font-weight: bold;}table.route span.subtract {   color: Red;   font-weight: bold;}table.route span.detail {   color: DarkBlue;}</style><table class=\"route\"><thead><tr><th>Souls</th><th>Bank</th><th>HB</th><th>Action</th></tr></thead><tr><td class=\"souls\"></td><td class=\"bank\"></td><td class=\"bones\"></td><td class=\"action\"><span class=\"name\">Equip</span> <span class=\"target\">Straight Sword Hilt</span><br/><span class=\"detail\">Pyromancer starting equipment</span></td></tr><tr><td class=\"souls\"></td><td class=\"bank\"></td><td class=\"bones\"></td><td class=\"action\"><span class=\"name\">Equip</span> <span class=\"target\">Tattered Cloth Hood</span><br/><span class=\"detail\">Pyromancer starting equipment</span></td></tr><tr><td class=\"souls\"></td><td class=\"bank\"></td><td class=\"bones\"></td><td class=\"action\"><span class=\"name\">Equip</span> <span class=\"target\">Tattered Cloth Robe</span><br/><span class=\"detail\">Pyromancer starting equipment</span></td></tr><tr><td class=\"souls\"></td><td class=\"bank\"></td><td class=\"bones\"></td><td class=\"action\"><span class=\"name\">Equip</span> <span class=\"target\">Tattered Cloth Manchette</span><br/><span class=\"detail\">Pyromancer starting equipment</span></td></tr><tr><td class=\"souls\"></td><td class=\"bank\"></td><td class=\"bones\"></td><td class=\"action\"><span class=\"name\">Equip</span> <span class=\"target\">Heavy Boots</span><br/><span class=\"detail\">Pyromancer starting equipment</span></td></tr><tr><td colspan=\"4\" class=\"region\">Northern Undead Asylum</td></tr><tr><td class=\"souls\"></td><td class=\"bank\"></td><td class=\"bones\"></td><td class=\"action\"><span class=\"name\">AutoBonfire</span> <span class=\"target\">Undead Asylum Dungeon Cell</span><br/><span class=\"detail\"></span></td></tr><tr><td class=\"souls\"></td><td class=\"bank\"></td><td class=\"bones\"></td><td class=\"action\"><span class=\"name\">Loot</span> <span class=\"target\">Dungeon Cell Key</span><br/><span class=\"detail\"></span></td></tr><tr><td class=\"souls\"></td><td class=\"bank\"></td><td class=\"bones\"></td><td class=\"action\"><span class=\"name\">UnEquip</span> <span class=\"target\">Tattered Cloth Robe</span><br/><span class=\"detail\">First ladder or big door.</span></td></tr><tr><td class=\"souls\"></td><td class=\"bank\"></td><td class=\"bones\"></td><td class=\"action\"><span class=\"name\">UnEquip</span> <span class=\"target\">Tattered Cloth Manchette</span><br/><span class=\"detail\">First ladder or big door.</span></td></tr><tr><td class=\"souls\"></td><td class=\"bank\"></td><td class=\"bones\"></td><td class=\"action\"><span class=\"name\">Loot</span> <span class=\"target\">Hand Axe</span><br/><span class=\"detail\"></span></td></tr><tr><td class=\"souls\"></td><td class=\"bank\"></td><td class=\"bones\"></td><td class=\"action\"><span class=\"name\">Equip</span> <span class=\"target\">Hand Axe replaceing Straight Sword Hilt</span><br/><span class=\"detail\">Fog gate before Oscar</span></td></tr><tr><td class=\"souls\"></td><td class=\"bank\"></td><td class=\"bones\"></td><td class=\"action\"><span class=\"name\">Talk</span> <span class=\"target\">Oscar of Astora</span><br/><span class=\"detail\">Behind wall boulder breaks</span></td></tr><tr><td class=\"souls\"></td><td class=\"bank\"></td><td class=\"bones\"></td><td class=\"action\"><span class=\"name\">Receive</span> <span class=\"target\">Estus Flask</span><br/><span class=\"detail\">Oscar of Astora</span></td></tr><tr><td class=\"souls\"></td><td class=\"bank\"></td><td class=\"bones\"></td><td class=\"action\"><span class=\"name\">AutoEquip</span> <span class=\"target\">Estus Flask</span><br/><span class=\"detail\"></span></td></tr><tr><td class=\"souls\"></td><td class=\"bank\"></td><td class=\"bones\"></td><td class=\"action\"><span class=\"name\">Receive</span> <span class=\"target\">Undead Asylum F2 East Key</span><br/><span class=\"detail\">Oscar of Astora</span></td></tr><tr><td class=\"souls\"><span class=\"add\">+100</span><br/>100</td><td class=\"bank\"></td><td class=\"bones\"></td><td class=\"action\"><span class=\"name\">AutoKill</span> <span class=\"target\">Oscar of Astora</span><br/><span class=\"detail\"></span></td></tr><tr><td class=\"souls\"><span class=\"add\">+2000</span><br/>2100</td><td class=\"bank\"></td><td class=\"bones\"></td><td class=\"action\"><span class=\"name\">Kill</span> <span class=\"target\">Asylum Demon</span><br/><span class=\"detail\"></span></td></tr><tr><td class=\"souls\"></td><td class=\"bank\"></td><td class=\"bones\"></td><td class=\"action\"><span class=\"name\">Receive</span> <span class=\"target\">Big Pilgrim's Key</span><br/><span class=\"detail\">Asylum Demon</span></td></tr><tr><td class=\"souls\"></td><td class=\"bank\"></td><td class=\"bones\"></td><td class=\"action\"><span class=\"name\">Activate</span> <span class=\"target\">Big Pilgrim's Key Door</span><br/><span class=\"detail\">Asylum Demon</span></td></tr><tr><td class=\"souls\"></td><td class=\"bank\"></td><td class=\"bones\"></td><td class=\"action\"><span class=\"name\">Activate</span> <span class=\"target\">Ledge warp trigger to Firelink Shrine</span><br/><span class=\"detail\"></span></td></tr><tr><td colspan=\"4\" class=\"region\">Firelink Shrine</td></tr><tr><td class=\"souls\"></td><td class=\"bank\"></td><td class=\"bones\"></td><td class=\"action\"><span class=\"name\">AutoBonfire</span> <span class=\"target\">Firelink Shrine</span><br/><span class=\"detail\"></span></td></tr><tr><td class=\"souls\"></td><td class=\"bank\"><span class=\"add\">+200</span><br/>200</td><td class=\"bones\"></td><td class=\"action\"><span class=\"name\">LootSoul</span> <span class=\"target\">Soul of a Lost Undead</span><br/><span class=\"detail\">upper elevator</span></td></tr><tr><td class=\"souls\"></td><td class=\"bank\"></td><td class=\"bones\"></td><td class=\"action\"><span class=\"name\">Jump</span> <span class=\"target\">off ledge to hidden chests</span><br/><span class=\"detail\"></span></td></tr><tr><td class=\"souls\"></td><td class=\"bank\"></td><td class=\"bones\"><span class=\"add\">+6</span><br/>6</td><td class=\"action\"><span class=\"name\">Loot</span> <span class=\"target\">Homeward Bone (x6)</span><br/><span class=\"detail\">hidden chest</span></td></tr><tr><td class=\"souls\"></td><td class=\"bank\"></td><td class=\"bones\"></td><td class=\"action\"><span class=\"name\">Equip</span> <span class=\"target\">Homeward Bone</span><br/><span class=\"detail\">immediately</span></td></tr><tr><td class=\"souls\"></td><td class=\"bank\"><span class=\"add\">+400</span><br/>600</td><td class=\"bones\"></td><td class=\"action\"><span class=\"name\">LootSoul</span> <span class=\"target\">Large Soul of a Lost Undead</span><br/><span class=\"detail\">middle graveyard</span></td></tr><tr><td class=\"souls\"></td><td class=\"bank\"><span class=\"add\">+400</span><br/>1000</td><td class=\"bones\"></td><td class=\"action\"><span class=\"name\">LootSoul</span> <span class=\"target\">Large Soul of a Lost Undead</span><br/><span class=\"detail\">start of graveyard</span></td></tr><tr><td class=\"souls\"></td><td class=\"bank\"></td><td class=\"bones\"><span class=\"subtract\">-1</span><br/>5</td><td class=\"action\"><span class=\"name\">Bone</span> <span class=\"target\">Firelink Shrine</span><br/><span class=\"detail\"></span></td></tr><tr><td colspan=\"4\" class=\"region\">Undead Burg</td></tr><tr><td class=\"souls\"><span class=\"subtract\">-350</span><br/>1750</td><td class=\"bank\"></td><td class=\"bones\"></td><td class=\"action\"><span class=\"name\">Buy</span> <span class=\"target\">Reinforced Club</span><br/><span class=\"detail\">Undead Merchant</span></td></tr><tr><td class=\"souls\"></td><td class=\"bank\"></td><td class=\"bones\"><span class=\"subtract\">-1</span><br/>4</td><td class=\"action\"><span class=\"name\">Bone</span> <span class=\"target\">Firelink Shrine</span><br/><span class=\"detail\"></span></td></tr></table>"
      ],
      "text/plain": [
       "<route_planner.sl1.SL1MeleeOnlyGlitchless at 0x7f4be4f9ffa0>"
      ]
     },
     "metadata": {},
     "output_type": "display_data"
    }
   ],
   "source": [
    "from route_planner import sl1\n",
    "from IPython.display import display\n",
    "\n",
    "display(sl1.SL1MeleeOnlyGlitchless())"
   ]
  }
 ],
 "metadata": {
  "kernelspec": {
   "display_name": "Python 3 (ipykernel)",
   "language": "python",
   "name": "python3"
  },
  "language_info": {
   "codemirror_mode": {
    "name": "ipython",
    "version": 3
   },
   "file_extension": ".py",
   "mimetype": "text/x-python",
   "name": "python",
   "nbconvert_exporter": "python",
   "pygments_lexer": "ipython3",
   "version": "3.10.2"
  }
 },
 "nbformat": 4,
 "nbformat_minor": 5
}
