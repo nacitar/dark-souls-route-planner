{
 "cells": [
  {
   "cell_type": "code",
   "execution_count": 1,
   "id": "ee907520",
   "metadata": {},
   "outputs": [
    {
     "data": {
      "text/html": [
       "<tr><td class=\"souls\">0</td><td class=\"bank\">0</td><td class=\"bones\">0</td><td class=\"action\"><span class=\"name\">region</span> <span class=\"target\">Northern Undead Asylum</span><br/><span class=\"detail\"></span></td></tr>"
      ],
      "text/plain": [
       "Entry(souls=0, bank=0, bones=0, action=Region(target='Northern Undead Asylum', detail=''))"
      ]
     },
     "metadata": {},
     "output_type": "display_data"
    },
    {
     "data": {
      "text/html": [
       "<tr><td class=\"souls\">0</td><td class=\"bank\">0</td><td class=\"bones\">0</td><td class=\"action\"><span class=\"name\">bonfireauto</span> <span class=\"target\">Undead Asylum Dungeon Cell</span><br/><span class=\"detail\"></span></td></tr>"
      ],
      "text/plain": [
       "Entry(souls=0, bank=0, bones=0, action=BonfireAuto(target='Undead Asylum Dungeon Cell', detail=''))"
      ]
     },
     "metadata": {},
     "output_type": "display_data"
    },
    {
     "data": {
      "text/html": [
       "<tr><td class=\"souls\">0</td><td class=\"bank\">0</td><td class=\"bones\">0</td><td class=\"action\"><span class=\"name\">equip</span> <span class=\"target\">Straight Sword Hilt</span><br/><span class=\"detail\">Pyromancer starting equipment</span></td></tr>"
      ],
      "text/plain": [
       "Entry(souls=0, bank=0, bones=0, action=Equip(target='Straight Sword Hilt', detail='Pyromancer starting equipment', slot='Right Hand', replaces='', expected_to_replace=None))"
      ]
     },
     "metadata": {},
     "output_type": "display_data"
    },
    {
     "data": {
      "text/html": [
       "<tr><td class=\"souls\">0</td><td class=\"bank\">0</td><td class=\"bones\">0</td><td class=\"action\"><span class=\"name\">equip</span> <span class=\"target\">Tattered Cloth Hood</span><br/><span class=\"detail\">Pyromancer starting equipment</span></td></tr>"
      ],
      "text/plain": [
       "Entry(souls=0, bank=0, bones=0, action=Equip(target='Tattered Cloth Hood', detail='Pyromancer starting equipment', slot='Head', replaces='', expected_to_replace=None))"
      ]
     },
     "metadata": {},
     "output_type": "display_data"
    },
    {
     "data": {
      "text/html": [
       "<tr><td class=\"souls\">0</td><td class=\"bank\">0</td><td class=\"bones\">0</td><td class=\"action\"><span class=\"name\">equip</span> <span class=\"target\">Tattered Cloth Robe</span><br/><span class=\"detail\">Pyromancer starting equipment</span></td></tr>"
      ],
      "text/plain": [
       "Entry(souls=0, bank=0, bones=0, action=Equip(target='Tattered Cloth Robe', detail='Pyromancer starting equipment', slot='Torso', replaces='', expected_to_replace=None))"
      ]
     },
     "metadata": {},
     "output_type": "display_data"
    },
    {
     "data": {
      "text/html": [
       "<tr><td class=\"souls\">0</td><td class=\"bank\">0</td><td class=\"bones\">0</td><td class=\"action\"><span class=\"name\">equip</span> <span class=\"target\">Tattered Cloth Manchette</span><br/><span class=\"detail\">Pyromancer starting equipment</span></td></tr>"
      ],
      "text/plain": [
       "Entry(souls=0, bank=0, bones=0, action=Equip(target='Tattered Cloth Manchette', detail='Pyromancer starting equipment', slot='Arms', replaces='', expected_to_replace=None))"
      ]
     },
     "metadata": {},
     "output_type": "display_data"
    },
    {
     "data": {
      "text/html": [
       "<tr><td class=\"souls\">0</td><td class=\"bank\">0</td><td class=\"bones\">0</td><td class=\"action\"><span class=\"name\">equip</span> <span class=\"target\">Heavy Boots</span><br/><span class=\"detail\">Pyromancer starting equipment</span></td></tr>"
      ],
      "text/plain": [
       "Entry(souls=0, bank=0, bones=0, action=Equip(target='Heavy Boots', detail='Pyromancer starting equipment', slot='Legs', replaces='', expected_to_replace=None))"
      ]
     },
     "metadata": {},
     "output_type": "display_data"
    },
    {
     "data": {
      "text/html": [
       "<tr><td class=\"souls\">0</td><td class=\"bank\">0</td><td class=\"bones\">0</td><td class=\"action\"><span class=\"name\">region</span> <span class=\"target\">Northern Undead Asylum</span><br/><span class=\"detail\"></span></td></tr>"
      ],
      "text/plain": [
       "Entry(souls=0, bank=0, bones=0, action=Region(target='Northern Undead Asylum', detail=''))"
      ]
     },
     "metadata": {},
     "output_type": "display_data"
    },
    {
     "data": {
      "text/html": [
       "<tr><td class=\"souls\">0</td><td class=\"bank\">0</td><td class=\"bones\">0</td><td class=\"action\"><span class=\"name\">loot</span> <span class=\"target\">Dungeon Cell Key</span><br/><span class=\"detail\"></span></td></tr>"
      ],
      "text/plain": [
       "Entry(souls=0, bank=0, bones=0, action=Loot(target='Dungeon Cell Key', detail='', bank=0, count=1))"
      ]
     },
     "metadata": {},
     "output_type": "display_data"
    },
    {
     "data": {
      "text/html": [
       "<tr><td class=\"souls\">0</td><td class=\"bank\">0</td><td class=\"bones\">0</td><td class=\"action\"><span class=\"name\">unequip</span> <span class=\"target\"></span><br/><span class=\"detail\">First ladder or big door.</span></td></tr>"
      ],
      "text/plain": [
       "Entry(souls=0, bank=0, bones=0, action=UnEquip(target='', detail='First ladder or big door.', slot='Torso', replaces='Tattered Cloth Robe', expected_to_replace=None))"
      ]
     },
     "metadata": {},
     "output_type": "display_data"
    },
    {
     "data": {
      "text/html": [
       "<tr><td class=\"souls\">0</td><td class=\"bank\">0</td><td class=\"bones\">0</td><td class=\"action\"><span class=\"name\">unequip</span> <span class=\"target\"></span><br/><span class=\"detail\">First ladder or big door.</span></td></tr>"
      ],
      "text/plain": [
       "Entry(souls=0, bank=0, bones=0, action=UnEquip(target='', detail='First ladder or big door.', slot='Arms', replaces='Tattered Cloth Manchette', expected_to_replace=None))"
      ]
     },
     "metadata": {},
     "output_type": "display_data"
    },
    {
     "data": {
      "text/html": [
       "<tr><td class=\"souls\">0</td><td class=\"bank\">0</td><td class=\"bones\">0</td><td class=\"action\"><span class=\"name\">loot</span> <span class=\"target\">Hand Axe</span><br/><span class=\"detail\"></span></td></tr>"
      ],
      "text/plain": [
       "Entry(souls=0, bank=0, bones=0, action=Loot(target='Hand Axe', detail='', bank=0, count=1))"
      ]
     },
     "metadata": {},
     "output_type": "display_data"
    },
    {
     "data": {
      "text/html": [
       "<tr><td class=\"souls\">0</td><td class=\"bank\">0</td><td class=\"bones\">0</td><td class=\"action\"><span class=\"name\">equip</span> <span class=\"target\">Hand Axe</span><br/><span class=\"detail\">Fog gate before Oscar</span></td></tr>"
      ],
      "text/plain": [
       "Entry(souls=0, bank=0, bones=0, action=Equip(target='Hand Axe', detail='Fog gate before Oscar', slot='Right Hand', replaces='Straight Sword Hilt', expected_to_replace=None))"
      ]
     },
     "metadata": {},
     "output_type": "display_data"
    },
    {
     "data": {
      "text/html": [
       "<tr><td class=\"souls\">0</td><td class=\"bank\">0</td><td class=\"bones\">0</td><td class=\"action\"><span class=\"name\">talk</span> <span class=\"target\">Oscar of Astora</span><br/><span class=\"detail\">Behind wall boulder breaks</span></td></tr>"
      ],
      "text/plain": [
       "Entry(souls=0, bank=0, bones=0, action=Talk(target='Oscar of Astora', detail='Behind wall boulder breaks'))"
      ]
     },
     "metadata": {},
     "output_type": "display_data"
    },
    {
     "data": {
      "text/html": [
       "<tr><td class=\"souls\">0</td><td class=\"bank\">0</td><td class=\"bones\">0</td><td class=\"action\"><span class=\"name\">receive</span> <span class=\"target\">Estus Flask</span><br/><span class=\"detail\">Oscar of Astora</span></td></tr>"
      ],
      "text/plain": [
       "Entry(souls=0, bank=0, bones=0, action=Receive(target='Estus Flask', detail='Oscar of Astora', bank=0, count=1))"
      ]
     },
     "metadata": {},
     "output_type": "display_data"
    },
    {
     "data": {
      "text/html": [
       "<tr><td class=\"souls\">0</td><td class=\"bank\">0</td><td class=\"bones\">0</td><td class=\"action\"><span class=\"name\">equipauto</span> <span class=\"target\">Estus Flask</span><br/><span class=\"detail\"></span></td></tr>"
      ],
      "text/plain": [
       "Entry(souls=0, bank=0, bones=0, action=EquipAuto(target='Estus Flask', detail='', slot='Item 0', replaces='', expected_to_replace=None))"
      ]
     },
     "metadata": {},
     "output_type": "display_data"
    },
    {
     "data": {
      "text/html": [
       "<tr><td class=\"souls\">0</td><td class=\"bank\">0</td><td class=\"bones\">0</td><td class=\"action\"><span class=\"name\">receive</span> <span class=\"target\">Undead Asylum F2 East Key</span><br/><span class=\"detail\">Oscar of Astora</span></td></tr>"
      ],
      "text/plain": [
       "Entry(souls=0, bank=0, bones=0, action=Receive(target='Undead Asylum F2 East Key', detail='Oscar of Astora', bank=0, count=1))"
      ]
     },
     "metadata": {},
     "output_type": "display_data"
    },
    {
     "data": {
      "text/html": [
       "<tr><td class=\"souls\">100</td><td class=\"bank\">0</td><td class=\"bones\">0</td><td class=\"action\"><span class=\"name\">killauto</span> <span class=\"target\">Oscar of Astora</span><br/><span class=\"detail\"></span></td></tr>"
      ],
      "text/plain": [
       "Entry(souls=100, bank=0, bones=0, action=KillAuto(target='Oscar of Astora', detail='', souls=100))"
      ]
     },
     "metadata": {},
     "output_type": "display_data"
    },
    {
     "data": {
      "text/html": [
       "<tr><td class=\"souls\">2100</td><td class=\"bank\">0</td><td class=\"bones\">0</td><td class=\"action\"><span class=\"name\">kill</span> <span class=\"target\">Asylum Demon</span><br/><span class=\"detail\"></span></td></tr>"
      ],
      "text/plain": [
       "Entry(souls=2100, bank=0, bones=0, action=Kill(target='Asylum Demon', detail='', souls=2000))"
      ]
     },
     "metadata": {},
     "output_type": "display_data"
    },
    {
     "data": {
      "text/html": [
       "<tr><td class=\"souls\">2100</td><td class=\"bank\">0</td><td class=\"bones\">0</td><td class=\"action\"><span class=\"name\">receive</span> <span class=\"target\">Big Pilgrim's Key</span><br/><span class=\"detail\">Asylum Demon</span></td></tr>"
      ],
      "text/plain": [
       "Entry(souls=2100, bank=0, bones=0, action=Receive(target=\"Big Pilgrim's Key\", detail='Asylum Demon', bank=0, count=1))"
      ]
     },
     "metadata": {},
     "output_type": "display_data"
    },
    {
     "data": {
      "text/html": [
       "<tr><td class=\"souls\">2100</td><td class=\"bank\">0</td><td class=\"bones\">0</td><td class=\"action\"><span class=\"name\">activate</span> <span class=\"target\">Big Pilgrim's Key Door</span><br/><span class=\"detail\">Asylum Demon</span></td></tr>"
      ],
      "text/plain": [
       "Entry(souls=2100, bank=0, bones=0, action=Activate(target=\"Big Pilgrim's Key Door\", detail='Asylum Demon'))"
      ]
     },
     "metadata": {},
     "output_type": "display_data"
    },
    {
     "data": {
      "text/html": [
       "<tr><td class=\"souls\">2100</td><td class=\"bank\">0</td><td class=\"bones\">0</td><td class=\"action\"><span class=\"name\">activate</span> <span class=\"target\">Ledge warp trigger to Firelink Shrine</span><br/><span class=\"detail\"></span></td></tr>"
      ],
      "text/plain": [
       "Entry(souls=2100, bank=0, bones=0, action=Activate(target='Ledge warp trigger to Firelink Shrine', detail=''))"
      ]
     },
     "metadata": {},
     "output_type": "display_data"
    },
    {
     "data": {
      "text/html": [
       "<tr><td class=\"souls\">2100</td><td class=\"bank\">0</td><td class=\"bones\">0</td><td class=\"action\"><span class=\"name\">region</span> <span class=\"target\">Firelink Shrine</span><br/><span class=\"detail\"></span></td></tr>"
      ],
      "text/plain": [
       "Entry(souls=2100, bank=0, bones=0, action=Region(target='Firelink Shrine', detail=''))"
      ]
     },
     "metadata": {},
     "output_type": "display_data"
    },
    {
     "data": {
      "text/html": [
       "<tr><td class=\"souls\">2100</td><td class=\"bank\">0</td><td class=\"bones\">0</td><td class=\"action\"><span class=\"name\">bonfireauto</span> <span class=\"target\">Firelink Shrine</span><br/><span class=\"detail\"></span></td></tr>"
      ],
      "text/plain": [
       "Entry(souls=2100, bank=0, bones=0, action=BonfireAuto(target='Firelink Shrine', detail=''))"
      ]
     },
     "metadata": {},
     "output_type": "display_data"
    },
    {
     "data": {
      "text/html": [
       "<tr><td class=\"souls\">2100</td><td class=\"bank\">0</td><td class=\"bones\">0</td><td class=\"action\"><span class=\"name\">region</span> <span class=\"target\">Firelink Shrine</span><br/><span class=\"detail\"></span></td></tr>"
      ],
      "text/plain": [
       "Entry(souls=2100, bank=0, bones=0, action=Region(target='Firelink Shrine', detail=''))"
      ]
     },
     "metadata": {},
     "output_type": "display_data"
    },
    {
     "data": {
      "text/html": [
       "<tr><td class=\"souls\">2100</td><td class=\"bank\">200</td><td class=\"bones\">0</td><td class=\"action\"><span class=\"name\">lootsoul</span> <span class=\"target\">Soul of a Lost Undead</span><br/><span class=\"detail\">upper elevator</span></td></tr>"
      ],
      "text/plain": [
       "Entry(souls=2100, bank=200, bones=0, action=LootSoul(target='Soul of a Lost Undead', detail='upper elevator', bank=200, count=1))"
      ]
     },
     "metadata": {},
     "output_type": "display_data"
    },
    {
     "data": {
      "text/html": [
       "<tr><td class=\"souls\">2100</td><td class=\"bank\">200</td><td class=\"bones\">0</td><td class=\"action\"><span class=\"name\">jump</span> <span class=\"target\">off ledge to hidden chests</span><br/><span class=\"detail\"></span></td></tr>"
      ],
      "text/plain": [
       "Entry(souls=2100, bank=200, bones=0, action=Jump(target='off ledge to hidden chests', detail=''))"
      ]
     },
     "metadata": {},
     "output_type": "display_data"
    },
    {
     "data": {
      "text/html": [
       "<tr><td class=\"souls\">2100</td><td class=\"bank\">200</td><td class=\"bones\">6</td><td class=\"action\"><span class=\"name\">loot</span> <span class=\"target\">Homeward Bone</span><br/><span class=\"detail\">hidden chest</span></td></tr>"
      ],
      "text/plain": [
       "Entry(souls=2100, bank=200, bones=6, action=Loot(target='Homeward Bone', detail='hidden chest', bank=0, count=6))"
      ]
     },
     "metadata": {},
     "output_type": "display_data"
    },
    {
     "data": {
      "text/html": [
       "<tr><td class=\"souls\">2100</td><td class=\"bank\">200</td><td class=\"bones\">6</td><td class=\"action\"><span class=\"name\">equip</span> <span class=\"target\">Homeward Bone</span><br/><span class=\"detail\">immediately</span></td></tr>"
      ],
      "text/plain": [
       "Entry(souls=2100, bank=200, bones=6, action=Equip(target='Homeward Bone', detail='immediately', slot='Item 5', replaces='', expected_to_replace=None))"
      ]
     },
     "metadata": {},
     "output_type": "display_data"
    },
    {
     "data": {
      "text/html": [
       "<tr><td class=\"souls\">2100</td><td class=\"bank\">600</td><td class=\"bones\">6</td><td class=\"action\"><span class=\"name\">lootsoul</span> <span class=\"target\">Large Soul of a Lost Undead</span><br/><span class=\"detail\">middle graveyard</span></td></tr>"
      ],
      "text/plain": [
       "Entry(souls=2100, bank=600, bones=6, action=LootSoul(target='Large Soul of a Lost Undead', detail='middle graveyard', bank=400, count=1))"
      ]
     },
     "metadata": {},
     "output_type": "display_data"
    },
    {
     "data": {
      "text/html": [
       "<tr><td class=\"souls\">2100</td><td class=\"bank\">1000</td><td class=\"bones\">6</td><td class=\"action\"><span class=\"name\">lootsoul</span> <span class=\"target\">Large Soul of a Lost Undead</span><br/><span class=\"detail\">start of graveyard</span></td></tr>"
      ],
      "text/plain": [
       "Entry(souls=2100, bank=1000, bones=6, action=LootSoul(target='Large Soul of a Lost Undead', detail='start of graveyard', bank=400, count=1))"
      ]
     },
     "metadata": {},
     "output_type": "display_data"
    },
    {
     "data": {
      "text/html": [
       "<tr><td class=\"souls\">2100</td><td class=\"bank\">1000</td><td class=\"bones\">5</td><td class=\"action\"><span class=\"name\">homewardbone</span> <span class=\"target\">Firelink Shrine</span><br/><span class=\"detail\"></span></td></tr>"
      ],
      "text/plain": [
       "Entry(souls=2100, bank=1000, bones=5, action=HomewardBone(target='Firelink Shrine', detail=''))"
      ]
     },
     "metadata": {},
     "output_type": "display_data"
    },
    {
     "data": {
      "text/html": [
       "<tr><td class=\"souls\">2100</td><td class=\"bank\">1000</td><td class=\"bones\">5</td><td class=\"action\"><span class=\"name\">region</span> <span class=\"target\">Undead Burg</span><br/><span class=\"detail\"></span></td></tr>"
      ],
      "text/plain": [
       "Entry(souls=2100, bank=1000, bones=5, action=Region(target='Undead Burg', detail=''))"
      ]
     },
     "metadata": {},
     "output_type": "display_data"
    },
    {
     "data": {
      "text/html": [
       "<tr><td class=\"souls\">1750</td><td class=\"bank\">1000</td><td class=\"bones\">5</td><td class=\"action\"><span class=\"name\">buy</span> <span class=\"target\">Reinforced Club</span><br/><span class=\"detail\">Undead Merchant</span></td></tr>"
      ],
      "text/plain": [
       "Entry(souls=1750, bank=1000, bones=5, action=Buy(target='Reinforced Club', detail='Undead Merchant', souls=350, count=1))"
      ]
     },
     "metadata": {},
     "output_type": "display_data"
    },
    {
     "data": {
      "text/html": [
       "<tr><td class=\"souls\">1750</td><td class=\"bank\">1000</td><td class=\"bones\">4</td><td class=\"action\"><span class=\"name\">homewardbone</span> <span class=\"target\">Firelink Shrine</span><br/><span class=\"detail\"></span></td></tr>"
      ],
      "text/plain": [
       "Entry(souls=1750, bank=1000, bones=4, action=HomewardBone(target='Firelink Shrine', detail=''))"
      ]
     },
     "metadata": {},
     "output_type": "display_data"
    }
   ],
   "source": [
    "from route_planner import sl1\n",
    "from IPython.display import HTML, display\n",
    "\n",
    "for entry in sl1.SL1MeleeOnlyGlitchless().process():\n",
    "    display(entry)"
   ]
  },
  {
   "cell_type": "code",
   "execution_count": null,
   "id": "6bc9cdcc",
   "metadata": {},
   "outputs": [],
   "source": []
  },
  {
   "cell_type": "code",
   "execution_count": null,
   "id": "c7c2fc0a",
   "metadata": {},
   "outputs": [],
   "source": []
  }
 ],
 "metadata": {
  "kernelspec": {
   "display_name": "Python 3 (ipykernel)",
   "language": "python",
   "name": "python3"
  },
  "language_info": {
   "codemirror_mode": {
    "name": "ipython",
    "version": 3
   },
   "file_extension": ".py",
   "mimetype": "text/x-python",
   "name": "python",
   "nbconvert_exporter": "python",
   "pygments_lexer": "ipython3",
   "version": "3.10.2"
  }
 },
 "nbformat": 4,
 "nbformat_minor": 5
}
