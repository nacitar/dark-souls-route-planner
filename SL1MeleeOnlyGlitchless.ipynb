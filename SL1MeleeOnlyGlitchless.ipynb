{
 "cells": [
  {
   "cell_type": "code",
   "execution_count": 8,
   "id": "ee907520",
   "metadata": {},
   "outputs": [
    {
     "data": {
      "text/html": [
       "<span style=\"font-family:Courier; color:Blue; font-size: 20px;\">0</span>"
      ],
      "text/plain": [
       "Entry(souls=0, item_souls=0, bones=0, event=Region(location='Northern Undead Asylum', notes=''))"
      ]
     },
     "metadata": {},
     "output_type": "display_data"
    },
    {
     "data": {
      "text/html": [
       "<span style=\"font-family:Courier; color:Blue; font-size: 20px;\">0</span>"
      ],
      "text/plain": [
       "Entry(souls=0, item_souls=0, bones=0, event=BonfireAuto(location='Undead Asylum Dungeon Cell', notes=''))"
      ]
     },
     "metadata": {},
     "output_type": "display_data"
    },
    {
     "data": {
      "text/html": [
       "<span style=\"font-family:Courier; color:Blue; font-size: 20px;\">0</span>"
      ],
      "text/plain": [
       "Entry(souls=0, item_souls=0, bones=0, event=Equip(location='', notes='Pyromancer starting equipment', slot='Straight Sword Hilt', replaces='', expected_to_replace=None, item='Right Hand'))"
      ]
     },
     "metadata": {},
     "output_type": "display_data"
    },
    {
     "data": {
      "text/html": [
       "<span style=\"font-family:Courier; color:Blue; font-size: 20px;\">0</span>"
      ],
      "text/plain": [
       "Entry(souls=0, item_souls=0, bones=0, event=Equip(location='', notes='Pyromancer starting equipment', slot='Tattered Cloth Hood', replaces='', expected_to_replace=None, item='Head'))"
      ]
     },
     "metadata": {},
     "output_type": "display_data"
    },
    {
     "data": {
      "text/html": [
       "<span style=\"font-family:Courier; color:Blue; font-size: 20px;\">0</span>"
      ],
      "text/plain": [
       "Entry(souls=0, item_souls=0, bones=0, event=Equip(location='', notes='Pyromancer starting equipment', slot='Tattered Cloth Robe', replaces='', expected_to_replace=None, item='Torso'))"
      ]
     },
     "metadata": {},
     "output_type": "display_data"
    },
    {
     "data": {
      "text/html": [
       "<span style=\"font-family:Courier; color:Blue; font-size: 20px;\">0</span>"
      ],
      "text/plain": [
       "Entry(souls=0, item_souls=0, bones=0, event=Equip(location='', notes='Pyromancer starting equipment', slot='Tattered Cloth Manchette', replaces='', expected_to_replace=None, item='Arms'))"
      ]
     },
     "metadata": {},
     "output_type": "display_data"
    },
    {
     "data": {
      "text/html": [
       "<span style=\"font-family:Courier; color:Blue; font-size: 20px;\">0</span>"
      ],
      "text/plain": [
       "Entry(souls=0, item_souls=0, bones=0, event=Equip(location='', notes='Pyromancer starting equipment', slot='Heavy Boots', replaces='', expected_to_replace=None, item='Legs'))"
      ]
     },
     "metadata": {},
     "output_type": "display_data"
    },
    {
     "data": {
      "text/html": [
       "<span style=\"font-family:Courier; color:Blue; font-size: 20px;\">0</span>"
      ],
      "text/plain": [
       "Entry(souls=0, item_souls=0, bones=0, event=Region(location='Northern Undead Asylum', notes=''))"
      ]
     },
     "metadata": {},
     "output_type": "display_data"
    },
    {
     "data": {
      "text/html": [
       "<span style=\"font-family:Courier; color:Blue; font-size: 20px;\">0</span>"
      ],
      "text/plain": [
       "Entry(souls=0, item_souls=0, bones=0, event=Loot(location='', notes='', item='Dungeon Cell Key', item_souls=0, count=1))"
      ]
     },
     "metadata": {},
     "output_type": "display_data"
    },
    {
     "data": {
      "text/html": [
       "<span style=\"font-family:Courier; color:Blue; font-size: 20px;\">0</span>"
      ],
      "text/plain": [
       "Entry(souls=0, item_souls=0, bones=0, event=UnEquip(location='First ladder or big door.', notes='', slot='Torso', replaces='', expected_to_replace=None))"
      ]
     },
     "metadata": {},
     "output_type": "display_data"
    },
    {
     "data": {
      "text/html": [
       "<span style=\"font-family:Courier; color:Blue; font-size: 20px;\">0</span>"
      ],
      "text/plain": [
       "Entry(souls=0, item_souls=0, bones=0, event=UnEquip(location='First ladder or big door.', notes='', slot='Arms', replaces='', expected_to_replace=None))"
      ]
     },
     "metadata": {},
     "output_type": "display_data"
    },
    {
     "data": {
      "text/html": [
       "<span style=\"font-family:Courier; color:Blue; font-size: 20px;\">0</span>"
      ],
      "text/plain": [
       "Entry(souls=0, item_souls=0, bones=0, event=Loot(location='', notes='', item='Hand Axe', item_souls=0, count=1))"
      ]
     },
     "metadata": {},
     "output_type": "display_data"
    },
    {
     "data": {
      "text/html": [
       "<span style=\"font-family:Courier; color:Blue; font-size: 20px;\">0</span>"
      ],
      "text/plain": [
       "Entry(souls=0, item_souls=0, bones=0, event=Equip(location='Fog gate before Oscar', notes='', slot='Hand Axe', replaces='', expected_to_replace=None, item='Right Hand'))"
      ]
     },
     "metadata": {},
     "output_type": "display_data"
    },
    {
     "data": {
      "text/html": [
       "<span style=\"font-family:Courier; color:Blue; font-size: 20px;\">0</span>"
      ],
      "text/plain": [
       "Entry(souls=0, item_souls=0, bones=0, event=Talk(location='Behind wall boulder breaks', notes='', target='Oscar of Astora'))"
      ]
     },
     "metadata": {},
     "output_type": "display_data"
    },
    {
     "data": {
      "text/html": [
       "<span style=\"font-family:Courier; color:Blue; font-size: 20px;\">0</span>"
      ],
      "text/plain": [
       "Entry(souls=0, item_souls=0, bones=0, event=Receive(location='Oscar of Astora', notes='', item='Estus Flask', item_souls=0, count=1))"
      ]
     },
     "metadata": {},
     "output_type": "display_data"
    },
    {
     "data": {
      "text/html": [
       "<span style=\"font-family:Courier; color:Blue; font-size: 20px;\">0</span>"
      ],
      "text/plain": [
       "Entry(souls=0, item_souls=0, bones=0, event=EquipAuto(location='', notes='', slot='Estus Flask', replaces='', expected_to_replace=None, item='Item 0'))"
      ]
     },
     "metadata": {},
     "output_type": "display_data"
    },
    {
     "data": {
      "text/html": [
       "<span style=\"font-family:Courier; color:Blue; font-size: 20px;\">0</span>"
      ],
      "text/plain": [
       "Entry(souls=0, item_souls=0, bones=0, event=Receive(location='Oscar of Astora', notes='', item='Undead Asylum F2 East Key', item_souls=0, count=1))"
      ]
     },
     "metadata": {},
     "output_type": "display_data"
    },
    {
     "data": {
      "text/html": [
       "<span style=\"font-family:Courier; color:Blue; font-size: 20px;\">100</span>"
      ],
      "text/plain": [
       "Entry(souls=100, item_souls=0, bones=0, event=KillAuto(location='', notes='', target='Oscar of Astora', souls=100))"
      ]
     },
     "metadata": {},
     "output_type": "display_data"
    },
    {
     "data": {
      "text/html": [
       "<span style=\"font-family:Courier; color:Blue; font-size: 20px;\">2100</span>"
      ],
      "text/plain": [
       "Entry(souls=2100, item_souls=0, bones=0, event=Kill(location='', notes='', target='Asylum Demon', souls=2000))"
      ]
     },
     "metadata": {},
     "output_type": "display_data"
    },
    {
     "data": {
      "text/html": [
       "<span style=\"font-family:Courier; color:Blue; font-size: 20px;\">2100</span>"
      ],
      "text/plain": [
       "Entry(souls=2100, item_souls=0, bones=0, event=Receive(location='Asylum Demon', notes='', item=\"Big Pilgrim's Key\", item_souls=0, count=1))"
      ]
     },
     "metadata": {},
     "output_type": "display_data"
    },
    {
     "data": {
      "text/html": [
       "<span style=\"font-family:Courier; color:Blue; font-size: 20px;\">2100</span>"
      ],
      "text/plain": [
       "Entry(souls=2100, item_souls=0, bones=0, event=Activate(location='Asylum Demon', notes='', target=\"Big Pilgrim's Key Door\"))"
      ]
     },
     "metadata": {},
     "output_type": "display_data"
    },
    {
     "data": {
      "text/html": [
       "<span style=\"font-family:Courier; color:Blue; font-size: 20px;\">2100</span>"
      ],
      "text/plain": [
       "Entry(souls=2100, item_souls=0, bones=0, event=Activate(location='', notes='', target='Ledge warp trigger to Firelink Shrine'))"
      ]
     },
     "metadata": {},
     "output_type": "display_data"
    },
    {
     "data": {
      "text/html": [
       "<span style=\"font-family:Courier; color:Blue; font-size: 20px;\">2100</span>"
      ],
      "text/plain": [
       "Entry(souls=2100, item_souls=0, bones=0, event=Region(location='Firelink Shrine', notes=''))"
      ]
     },
     "metadata": {},
     "output_type": "display_data"
    },
    {
     "data": {
      "text/html": [
       "<span style=\"font-family:Courier; color:Blue; font-size: 20px;\">2100</span>"
      ],
      "text/plain": [
       "Entry(souls=2100, item_souls=0, bones=0, event=BonfireAuto(location='Firelink Shrine', notes=''))"
      ]
     },
     "metadata": {},
     "output_type": "display_data"
    },
    {
     "data": {
      "text/html": [
       "<span style=\"font-family:Courier; color:Blue; font-size: 20px;\">2100</span>"
      ],
      "text/plain": [
       "Entry(souls=2100, item_souls=0, bones=0, event=Region(location='Firelink Shrine', notes=''))"
      ]
     },
     "metadata": {},
     "output_type": "display_data"
    },
    {
     "data": {
      "text/html": [
       "<span style=\"font-family:Courier; color:Blue; font-size: 20px;\">2100</span>"
      ],
      "text/plain": [
       "Entry(souls=2100, item_souls=200, bones=0, event=LootSoul(location='upper elevator', notes='', item='Soul of a Lost Undead', item_souls=200, count=1))"
      ]
     },
     "metadata": {},
     "output_type": "display_data"
    },
    {
     "data": {
      "text/html": [
       "<span style=\"font-family:Courier; color:Blue; font-size: 20px;\">2100</span>"
      ],
      "text/plain": [
       "Entry(souls=2100, item_souls=200, bones=0, event=Jump(location='off ledge to hidden chests', notes=''))"
      ]
     },
     "metadata": {},
     "output_type": "display_data"
    },
    {
     "data": {
      "text/html": [
       "<span style=\"font-family:Courier; color:Blue; font-size: 20px;\">2100</span>"
      ],
      "text/plain": [
       "Entry(souls=2100, item_souls=200, bones=6, event=Loot(location='hidden chest', notes='', item='Homeward Bone', item_souls=0, count=6))"
      ]
     },
     "metadata": {},
     "output_type": "display_data"
    },
    {
     "data": {
      "text/html": [
       "<span style=\"font-family:Courier; color:Blue; font-size: 20px;\">2100</span>"
      ],
      "text/plain": [
       "Entry(souls=2100, item_souls=200, bones=6, event=Equip(location='immediately', notes='', slot='Homeward Bone', replaces='', expected_to_replace=None, item='Item 5'))"
      ]
     },
     "metadata": {},
     "output_type": "display_data"
    },
    {
     "data": {
      "text/html": [
       "<span style=\"font-family:Courier; color:Blue; font-size: 20px;\">2100</span>"
      ],
      "text/plain": [
       "Entry(souls=2100, item_souls=600, bones=6, event=LootSoul(location='middle graveyard', notes='', item='Large Soul of a Lost Undead', item_souls=400, count=1))"
      ]
     },
     "metadata": {},
     "output_type": "display_data"
    },
    {
     "data": {
      "text/html": [
       "<span style=\"font-family:Courier; color:Blue; font-size: 20px;\">2100</span>"
      ],
      "text/plain": [
       "Entry(souls=2100, item_souls=1000, bones=6, event=LootSoul(location='start of graveyard', notes='', item='Large Soul of a Lost Undead', item_souls=400, count=1))"
      ]
     },
     "metadata": {},
     "output_type": "display_data"
    },
    {
     "data": {
      "text/html": [
       "<span style=\"font-family:Courier; color:Blue; font-size: 20px;\">2100</span>"
      ],
      "text/plain": [
       "Entry(souls=2100, item_souls=1000, bones=5, event=HomewardBone(location='', notes='', destination='Firelink Shrine'))"
      ]
     },
     "metadata": {},
     "output_type": "display_data"
    },
    {
     "data": {
      "text/html": [
       "<span style=\"font-family:Courier; color:Blue; font-size: 20px;\">2100</span>"
      ],
      "text/plain": [
       "Entry(souls=2100, item_souls=1000, bones=5, event=Region(location='Undead Burg', notes=''))"
      ]
     },
     "metadata": {},
     "output_type": "display_data"
    },
    {
     "data": {
      "text/html": [
       "<span style=\"font-family:Courier; color:Blue; font-size: 20px;\">1750</span>"
      ],
      "text/plain": [
       "Entry(souls=1750, item_souls=1000, bones=5, event=Buy(location='Undead Merchant', notes='', item='Reinforced Club', souls=350, count=1))"
      ]
     },
     "metadata": {},
     "output_type": "display_data"
    },
    {
     "data": {
      "text/html": [
       "<span style=\"font-family:Courier; color:Blue; font-size: 20px;\">1750</span>"
      ],
      "text/plain": [
       "Entry(souls=1750, item_souls=1000, bones=4, event=HomewardBone(location='', notes='', destination='Firelink Shrine'))"
      ]
     },
     "metadata": {},
     "output_type": "display_data"
    }
   ],
   "source": [
    "from route_planner import sl1\n",
    "from IPython.display import HTML, display\n",
    "\n",
    "for entry in sl1.SL1MeleeOnlyGlitchless().process():\n",
    "    display(entry)"
   ]
  },
  {
   "cell_type": "code",
   "execution_count": null,
   "id": "39fb0e78",
   "metadata": {},
   "outputs": [],
   "source": []
  }
 ],
 "metadata": {
  "kernelspec": {
   "display_name": "Python 3 (ipykernel)",
   "language": "python",
   "name": "python3"
  },
  "language_info": {
   "codemirror_mode": {
    "name": "ipython",
    "version": 3
   },
   "file_extension": ".py",
   "mimetype": "text/x-python",
   "name": "python",
   "nbconvert_exporter": "python",
   "pygments_lexer": "ipython3",
   "version": "3.10.1"
  }
 },
 "nbformat": 4,
 "nbformat_minor": 5
}
